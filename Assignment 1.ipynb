{
 "metadata": {
  "name": "",
  "signature": "sha256:5ecf1b39be21549d4f3b9f18ee9bc76a5f9bc89f166a4b30ee4816fc895d1c05"
 },
 "nbformat": 3,
 "nbformat_minor": 0,
 "worksheets": [
  {
   "cells": [
    {
     "cell_type": "heading",
     "level": 1,
     "metadata": {},
     "source": [
      "Exercise 1"
     ]
    },
    {
     "cell_type": "code",
     "collapsed": false,
     "input": [
      "#import numpy module\n",
      "import numpy\n",
      "import matplotlib.pyplot as plt\n",
      "# create an array from 1 to 100\n",
      "A = numpy.array(range(1,101))\n",
      "#create a box plot\n",
      "plt.boxplot(A)\n",
      "#disply boxplot\n",
      "plt.show()"
     ],
     "language": "python",
     "metadata": {},
     "outputs": [],
     "prompt_number": 2
    },
    {
     "cell_type": "heading",
     "level": 1,
     "metadata": {},
     "source": [
      "Exercise 2"
     ]
    },
    {
     "cell_type": "code",
     "collapsed": false,
     "input": [
      "# import modules\n",
      "import numpy as np\n",
      "import matplotlib.pyplot as plt\n",
      "# create an array of random numbers\n",
      "a = np.random.random(100)\n",
      "#function to calculate mean and std\n",
      "def calculateMeanAndStd(x):\n",
      "\tinfo = []\n",
      "\tinfo.append(np.mean(x))\n",
      "\tinfo.append(np.std(x))\n",
      "\treturn info\n",
      "#print mean and std dev\n",
      "info = calculateMeanAndStd(a)\n",
      "# mean,stdev lines in line graph\n",
      "mean = [info[0] for x in range(101)]\n",
      "stdev = [info[1] for x in range(101)]\n",
      "# create line graph of data with\n",
      "# blue dashes for points, blue squares for mean \n",
      "# green tiangles for stdev\n",
      "plt.plot(a,'b--',mean,'bs',stdev,'g^')\n",
      "#write text in plot\n",
      "plt.text(0.5,info[0]+0.02,r'Mean')\n",
      "plt.text(0.3,info[1]+0.02,r'Stdev')\n",
      "# show line graph\n",
      "plt.show()\n"
     ],
     "language": "python",
     "metadata": {},
     "outputs": [],
     "prompt_number": 3
    },
    {
     "cell_type": "heading",
     "level": 1,
     "metadata": {},
     "source": [
      "Exercise 3"
     ]
    },
    {
     "cell_type": "code",
     "collapsed": false,
     "input": [
      "# import modules\n",
      "import numpy as np\n",
      "import matplotlib.pyplot as plt\n",
      "#array with 8000 random values\n",
      "a = np.random.random(8000)\n",
      "#reshape array into 20x20x20\n",
      "a = np.reshape(a,(20,20,20))\n",
      "#compute average of slices \n",
      "avg_x = np.mean(a, axis=0)\n",
      "avg_y = np.mean(a, axis=1)\n",
      "avg_z = np.mean(a, axis=2)\n",
      "# save images\n",
      "plt.imshow(avg_x)\n",
      "plt.savefig('xAvg.png')\n",
      "plt.imshow(avg_y)\n",
      "plt.savefig('yAvg.png')\n",
      "plt.imshow(avg_z)\n",
      "plt.savefig('zAvg.png')"
     ],
     "language": "python",
     "metadata": {},
     "outputs": []
    },
    {
     "cell_type": "heading",
     "level": 1,
     "metadata": {},
     "source": [
      "Exercise 4"
     ]
    },
    {
     "cell_type": "code",
     "collapsed": false,
     "input": [
      "# import modules\n",
      "import numpy as np\n",
      "import matplotlib.pyplot as plt\n",
      "#array with 100 uniform random values\n",
      "a = np.random.randint(1,101,100)\n",
      "#create a line graph\n",
      "plt.plot(a)\n",
      "# Open a file\n",
      "f = open(\"data\", \"wb\")\n",
      "#write array to file\n",
      "f.write(a)\n",
      "# Close opend file\n",
      "f.close()\n",
      "#disply histogram\n",
      "plt.show()\n"
     ],
     "language": "python",
     "metadata": {},
     "outputs": []
    },
    {
     "cell_type": "heading",
     "level": 1,
     "metadata": {},
     "source": [
      "Exercise 5"
     ]
    },
    {
     "cell_type": "code",
     "collapsed": false,
     "input": [
      "# import modules\n",
      "import numpy as np\n",
      "import matplotlib.pyplot as plt\n",
      "# Open a file and read floats\n",
      "a = np.fromfile(\"data\", dtype=int, count=-1, sep='')\n",
      "# create a generator for intervals\n",
      "g = [14*x for x in range(8)]\n",
      "g[-1] += 2\n",
      "#create a histogram\n",
      "plt.hist(a,bins=g)\n",
      "plt.xlabel('Interval')\n",
      "plt.ylabel('Count')\n",
      "#disply histogram\n",
      "plt.show()"
     ],
     "language": "python",
     "metadata": {},
     "outputs": []
    },
    {
     "cell_type": "heading",
     "level": 1,
     "metadata": {},
     "source": [
      "Exercise 6"
     ]
    },
    {
     "cell_type": "code",
     "collapsed": false,
     "input": [
      "# import modules\n",
      "import numpy as np\n",
      "import matplotlib.pyplot as plt\n",
      "# create an array of random numbers\n",
      "a = np.random.random(100)\n",
      "#function to calculate mean and std\n",
      "def calculateMeanAndStd(x):\n",
      "\tinfo = []\n",
      "\tinfo.append(np.mean(x))\n",
      "\tinfo.append(np.std(x))\n",
      "\treturn info\n",
      "#print mean and std dev\n",
      "info = calculateMeanAndStd(a)\n",
      "# mean,stdev lines in line graph\n",
      "mean = [info[0] for x in range(101)]\n",
      "stdev = [info[1] for x in range(101)]\n",
      "# create line graph of data with\n",
      "# blue dashes for points, blue squares for mean \n",
      "# green tiangles for stdev\n",
      "plt.plot(a,'b--',mean,'bs',stdev,'g^')\n",
      "#write text in plot\n",
      "plt.text(0.5,info[0]+0.02,r'Mean')\n",
      "plt.text(0.3,info[1]+0.02,r'Stdev')\n",
      "# show line graph\n",
      "plt.show()"
     ],
     "language": "python",
     "metadata": {},
     "outputs": [],
     "prompt_number": 1
    }
   ],
   "metadata": {}
  }
 ]
}